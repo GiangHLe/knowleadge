{
 "cells": [
  {
   "cell_type": "code",
   "execution_count": 13,
   "metadata": {},
   "outputs": [
    {
     "name": "stdout",
     "output_type": "stream",
     "text": [
      "(3, 26, 26, 3, 85)\n",
      "(1, 9, 2)\n"
     ]
    }
   ],
   "source": [
    "import numpy as np\n",
    "m = 3\n",
    "num_classes = 80\n",
    "input_shape = np.array([416,416])\n",
    "num_layers = 3\n",
    "anchors = np.array([[10,13],\n",
    "                    [16,30],\n",
    "                    [33,23],\n",
    "                    [30,61],\n",
    "                    [62,45],\n",
    "                    [59,119],\n",
    "                    [116,90],\n",
    "                    [156,198],\n",
    "                    [373,326]])\n",
    "anchor_mask = [[6,7,8], [3,4,5], [0,1,2]]\n",
    "grid_shapes = [input_shape//{0:32, 1:16, 2:8}[l] for l in range(num_layers)]\n",
    "y_true = [np.zeros((m,grid_shapes[l][0],grid_shapes[l][1],len(anchor_mask[l]),5+num_classes),\n",
    "        dtype='float32') for l in range(num_layers)]\n",
    "print(y_true[1].shape)\n",
    "anchors = np.expand_dims(anchors, 0)\n",
    "anchor_maxes = anchors / 2.\n",
    "anchor_mins = -anchor_maxes\n",
    "print(anchor_maxes.shape)"
   ]
  },
  {
   "cell_type": "code",
   "execution_count": 20,
   "metadata": {},
   "outputs": [
    {
     "name": "stdout",
     "output_type": "stream",
     "text": [
      "(3, 2)\n",
      "[[False False False False False False False  True  True]\n",
      " [False False False False False False False False  True]\n",
      " [False False False False False False  True  True  True]]\n",
      "[6 6 6]\n"
     ]
    }
   ],
   "source": [
    "# already scale to adap with 416x416\n",
    "box1 = np.array([[50,100,150,200,0]])\n",
    "box2 = np.array([[30,50,200,120,3]])\n",
    "box3 = np.array([[20,10,100,80,2]])\n",
    "box = np.concatenate([box1,box2,box3], axis = 0)\n",
    "box = np.expand_dims(box, 0)\n",
    "true_boxes = np.concatenate([box,box,box], axis = 0)\n",
    "true_boxes = np.array(true_boxes, dtype='float32')\n",
    "\n",
    "boxes_xy = (true_boxes[..., 0:2] + true_boxes[..., 2:4]) // 2\n",
    "boxes_wh = true_boxes[..., 2:4] - true_boxes[..., 0:2]\n",
    "true_boxes[..., 0:2] = boxes_xy/input_shape[::-1]\n",
    "true_boxes[..., 2:4] = boxes_wh/input_shape[::-1]\n",
    "\n",
    "valid_mask = boxes_wh[..., 0]>0\n",
    "\n",
    "wh = boxes_wh[1, valid_mask[1]]\n",
    "print(wh.shape)\n",
    "wh = np.expand_dims(wh, -2)\n",
    "# print(wh.shape)\n",
    "# print(anchors.shape)\n",
    "box_maxes = wh / 2.\n",
    "box_mins = -box_maxes\n",
    "\n",
    "intersect_mins = np.maximum(box_mins, anchor_mins)\n",
    "# print(intersect_mins.shape)\n",
    "intersect_maxes = np.minimum(box_maxes, anchor_maxes)\n",
    "intersect_wh = np.maximum(intersect_maxes - intersect_mins, 0.)\n",
    "\n",
    "\n",
    "intersect_area = intersect_wh[..., 0] * intersect_wh[..., 1]\n",
    "# print(intersect_area.shape)\n",
    "box_area = wh[..., 0] * wh[..., 1]\n",
    "# print(box_area)\n",
    "anchor_area = anchors[..., 0] * anchors[..., 1]\n",
    "# print(anchor_area)\n",
    "iou = intersect_area / (box_area + anchor_area - intersect_area)\n",
    "temp = (box_area/anchor_area)\n",
    "# print(temp)\n",
    "# print(intersect_area)\n",
    "# print(iou)\n",
    "print(temp==iou)\n",
    "# Find best anchor for each true box\n",
    "best_anchor = np.argmax(iou, axis=-1)\n",
    "print(best_anchor)"
   ]
  },
  {
   "cell_type": "code",
   "execution_count": 26,
   "metadata": {},
   "outputs": [],
   "source": [
    "b = 0\n",
    "for t, n in enumerate(best_anchor):\n",
    "    for l in range(num_layers):\n",
    "        if n in anchor_mask[l]:\n",
    "            i = np.floor(true_boxes[b,t,0]*grid_shapes[l][1]).astype('int32')\n",
    "            j = np.floor(true_boxes[b,t,1]*grid_shapes[l][0]).astype('int32')\n",
    "            k = anchor_mask[l].index(n)\n",
    "            c = true_boxes[b,t, 4].astype('int32')\n",
    "            y_true[l][b, j, i, k, 0:4] = true_boxes[b,t, 0:4]\n",
    "            y_true[l][b, j, i, k, 4] = 1\n",
    "            y_true[l][b, j, i, k, 5+c] = 1"
   ]
  },
  {
   "cell_type": "code",
   "execution_count": 16,
   "metadata": {},
   "outputs": [
    {
     "data": {
      "text/plain": [
       "(3, 13, 13, 3, 85)"
      ]
     },
     "execution_count": 16,
     "metadata": {},
     "output_type": "execute_result"
    }
   ],
   "source": [
    "y_true[0].shape"
   ]
  },
  {
   "cell_type": "code",
   "execution_count": 25,
   "metadata": {},
   "outputs": [
    {
     "data": {
      "text/plain": [
       "(3, 3, 5)"
      ]
     },
     "execution_count": 25,
     "metadata": {},
     "output_type": "execute_result"
    }
   ],
   "source": [
    "true_boxes.shape"
   ]
  }
 ],
 "metadata": {
  "kernelspec": {
   "display_name": "Python 3",
   "language": "python",
   "name": "python3"
  },
  "language_info": {
   "codemirror_mode": {
    "name": "ipython",
    "version": 3
   },
   "file_extension": ".py",
   "mimetype": "text/x-python",
   "name": "python",
   "nbconvert_exporter": "python",
   "pygments_lexer": "ipython3",
   "version": "3.7.9"
  }
 },
 "nbformat": 4,
 "nbformat_minor": 4
}
